{
 "cells": [
  {
   "cell_type": "code",
   "execution_count": null,
   "id": "e1a1ea7f",
   "metadata": {},
   "outputs": [
    {
     "name": "stdout",
     "output_type": "stream",
     "text": [
      "Município '' não encontrado!\n"
     ]
    }
   ],
   "source": [
    "import geopandas as gpd\n",
    "import matplotlib.pyplot as plt\n",
    "\n",
    "# Caminho para o shapefile (ajuste para seu arquivo)\n",
    "shapefile_path = r'D:\\projetos\\data\\shapefiles\\brasil\\RS_Municipios_2024\\sul\\rs\\RS_Municipios_2024.shp'\n",
    "\n",
    "# Carregar shapefile\n",
    "gdf = gpd.read_file(shapefile_path)\n",
    "\n",
    "# Plotar todos os municípios do RS (opcional)\n",
    "gdf.plot(figsize=(10,10), edgecolor='black')\n",
    "plt.title(\"Malha municipal do Rio Grande do Sul\")\n",
    "plt.show()\n",
    "\n",
    "# Defina aqui o nome do município que quer filtrar (exemplo: 'Porto Alegre')\n",
    "municipio_nome = 'Porto Alegre'\n",
    "\n",
    "# Filtrar município escolhido\n",
    "municipio_filtrado = gdf[gdf['NM_MUN'] == municipio_nome]\n",
    "\n",
    "# Verificar se encontrou o município\n",
    "if municipio_filtrado.empty:\n",
    "    print(f\"Município '{municipio_nome}' não encontrado!\")\n",
    "else:\n",
    "    # Plotar município selecionado\n",
    "    municipio_filtrado.plot(figsize=(8,8), edgecolor='black', color='lightblue')\n",
    "    plt.title(f\"Município de {municipio_nome}\")\n",
    "    plt.show()\n",
    "    \n",
    "    # Exportar para GeoPackage\n",
    "    output_path = rf'D:\\projetos\\outputs\\shapefiles\\brasil\\sul\\rs\\{municipio_nome}.gpkg'\n",
    "    municipio_filtrado.to_file(output_path, driver='GPKG')\n",
    "    print(f\"Arquivo {municipio_nome}.gpkg salvo em {output_path}\")\n"
   ]
  },
  {
   "cell_type": "markdown",
   "id": "7fbef634",
   "metadata": {},
   "source": []
  },
  {
   "cell_type": "markdown",
   "id": "0f8b21d1",
   "metadata": {},
   "source": []
  }
 ],
 "metadata": {
  "kernelspec": {
   "display_name": "geoprojeto",
   "language": "python",
   "name": "python3"
  },
  "language_info": {
   "codemirror_mode": {
    "name": "ipython",
    "version": 3
   },
   "file_extension": ".py",
   "mimetype": "text/x-python",
   "name": "python",
   "nbconvert_exporter": "python",
   "pygments_lexer": "ipython3",
   "version": "3.10.18"
  }
 },
 "nbformat": 4,
 "nbformat_minor": 5
}
